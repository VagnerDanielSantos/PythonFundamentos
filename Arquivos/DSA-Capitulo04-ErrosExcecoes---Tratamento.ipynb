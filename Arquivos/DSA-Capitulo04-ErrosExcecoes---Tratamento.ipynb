{
 "cells": [
  {
   "cell_type": "markdown",
   "metadata": {},
   "source": [
    "# <font color = green>Data Science Academy - Python Fundamentos</font>\n",
    "\n",
    "# <font color = blue>Capítulo 04 - Tratamento de Erros e Exceções</font>"
   ]
  },
  {
   "cell_type": "markdown",
   "metadata": {},
   "source": [
    "# TRY, EXCEPT, FINALLY"
   ]
  },
  {
   "cell_type": "code",
   "execution_count": null,
   "metadata": {},
   "outputs": [],
   "source": [
    "8 + 'a'"
   ]
  },
  {
   "cell_type": "code",
   "execution_count": null,
   "metadata": {},
   "outputs": [],
   "source": [
    "# Utilizando TRY e EXCEPT\n",
    "\n",
    "try:\n",
    "    8 + 'a'\n",
    "except TypeError:\n",
    "    print('Operação não permitida !')"
   ]
  },
  {
   "cell_type": "code",
   "execution_count": null,
   "metadata": {},
   "outputs": [],
   "source": [
    "# Utilizando TRY, EXCEPT e ELSE\n",
    "\n",
    "try:\n",
    "    file = open('D:\\\\DataScienceAcademy\\\\PythonFundamentos\\\\cap04\\\\arquivos/TesteErros.txt', 'w')\n",
    "    file.write('Gravando no arquivo')\n",
    "except IOError:\n",
    "    print('ERRO: Arquivo não encontrado ou não pode ser salvo.')\n",
    "else:\n",
    "    print('Conteúdo gravado com sucesso.')\n",
    "    file.close()"
   ]
  },
  {
   "cell_type": "code",
   "execution_count": null,
   "metadata": {},
   "outputs": [],
   "source": [
    "# Utilizando TRY, EXCEPT e ELSE\n",
    "# Falta a extensão .txt\n",
    "\n",
    "try:\n",
    "    file = open('D:\\\\DataScienceAcademy\\\\PythonFundamentos\\\\cap04\\\\arquivos/TesteErros', 'r')    \n",
    "except IOError:\n",
    "    print ('ERRO: Arquivo não encontrado ou não pode ser salvo.')\n",
    "else:\n",
    "    print ('Conteúdo gravado com sucesso.')\n",
    "    file.close()"
   ]
  },
  {
   "cell_type": "code",
   "execution_count": null,
   "metadata": {},
   "outputs": [],
   "source": [
    "# Utilizando TRY, EXCEPT, ELSE e FINALLY\n",
    "\n",
    "try:\n",
    "    file = open('D:\\\\DataScienceAcademy\\\\PythonFundamentos\\\\cap04\\\\arquivos/TesteErros.txt', 'w')\n",
    "    file.write('Gravando no arquivo')\n",
    "except IOError:\n",
    "    print('ERRO: Arquivo não encontrado ou não pode ser salvo.')\n",
    "else:\n",
    "    print('Conteúdo gravado com sucesso.')\n",
    "    file.close()\n",
    "finally:\n",
    "    print('Comandos no bloco \"finally\" são sempre executados.')"
   ]
  },
  {
   "cell_type": "code",
   "execution_count": null,
   "metadata": {},
   "outputs": [],
   "source": [
    "def askint():\n",
    "    try:\n",
    "        valor = int(input('Digite um número: '))\n",
    "    except UnboundLocalError:\n",
    "        print('Você não digitou um número')\n",
    "    finally:\n",
    "        print('Obrigado !')\n",
    "    print(valor)"
   ]
  },
  {
   "cell_type": "code",
   "execution_count": null,
   "metadata": {},
   "outputs": [],
   "source": [
    "askint()"
   ]
  },
  {
   "cell_type": "code",
   "execution_count": null,
   "metadata": {},
   "outputs": [],
   "source": [
    "# Corrigido apenas se for digitado 1x de forma errada\n",
    "\n",
    "def askint():\n",
    "    try:\n",
    "        valor = int(input('Digite um número: '))\n",
    "    except :\n",
    "        print('Você não digitou um número')\n",
    "        valor = int(input('Tente novamente. Digite um número: '))\n",
    "    finally:\n",
    "        print('Obrigado !')\n",
    "    print(valor)"
   ]
  },
  {
   "cell_type": "code",
   "execution_count": null,
   "metadata": {},
   "outputs": [],
   "source": [
    "askint()"
   ]
  },
  {
   "cell_type": "code",
   "execution_count": null,
   "metadata": {},
   "outputs": [],
   "source": [
    "# Efetuado LOOP até ser digitado corretamente um número\n",
    "\n",
    "def askint():\n",
    "    while True:\n",
    "        try:\n",
    "            valor = int(input('Digite um número: '))\n",
    "        except :\n",
    "            print('Você não digitou um número')\n",
    "            continue\n",
    "        else:\n",
    "            print('Obrigado por digitar um número !')\n",
    "            break\n",
    "        finally:\n",
    "            print('Fim da execução.\\n')\n",
    "        print(valor)"
   ]
  },
  {
   "cell_type": "code",
   "execution_count": null,
   "metadata": {},
   "outputs": [],
   "source": [
    "askint()"
   ]
  },
  {
   "cell_type": "code",
   "execution_count": null,
   "metadata": {},
   "outputs": [],
   "source": [
    "tupla = (0, 9, 8, 7, 6, 5, 4, 3, 2, 1)\n",
    "\n",
    "try:\n",
    "    tupla.append(0)\n",
    "    for each in tupla:\n",
    "        print(each)\n",
    "except AttributeError as exception:\n",
    "    print('ERRO: ', exception)\n",
    "except IOError as exception:\n",
    "    print('ERRO de I/O: ', exception)   "
   ]
  }
 ],
 "metadata": {
  "kernelspec": {
   "display_name": "Python 3",
   "language": "python",
   "name": "python3"
  },
  "language_info": {
   "codemirror_mode": {
    "name": "ipython",
    "version": 3
   },
   "file_extension": ".py",
   "mimetype": "text/x-python",
   "name": "python",
   "nbconvert_exporter": "python",
   "pygments_lexer": "ipython3",
   "version": "3.6.5"
  }
 },
 "nbformat": 4,
 "nbformat_minor": 2
}
