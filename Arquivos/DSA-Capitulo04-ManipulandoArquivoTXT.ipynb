{
 "cells": [
  {
   "cell_type": "markdown",
   "metadata": {},
   "source": [
    "# <font color = green>Data Science Academy - PYthon Fundamentos</font>\n",
    "\n",
    "# <font color = blue>Capítulo 04 - MANIPULAÇÃO DE ARQUIVOS </font>"
   ]
  },
  {
   "cell_type": "markdown",
   "metadata": {},
   "source": [
    "# Manipulando arquivos .txt"
   ]
  },
  {
   "cell_type": "code",
   "execution_count": null,
   "metadata": {},
   "outputs": [],
   "source": [
    "texto = 'Cientista de Dados é a profissão que mais cresce em todo o mundo. \\n'\n",
    "texto = texto + 'Esses profissionais precisam se especializar em programação, estatística e machine learning. \\n'\n",
    "texto += 'E claro, Big Data.'"
   ]
  },
  {
   "cell_type": "code",
   "execution_count": null,
   "metadata": {},
   "outputs": [],
   "source": [
    "print(texto)"
   ]
  },
  {
   "cell_type": "code",
   "execution_count": null,
   "metadata": {},
   "outputs": [],
   "source": [
    "# Importando o módulo os\n",
    "\n",
    "import os"
   ]
  },
  {
   "cell_type": "code",
   "execution_count": null,
   "metadata": {},
   "outputs": [],
   "source": [
    "# Criando um arquivo\n",
    "\n",
    "arquivo = open(os.path.join('D:\\\\DataScienceAcademy\\\\PythonFundamentos\\\\cap04\\\\arquivos/cientista.txt'), 'w')"
   ]
  },
  {
   "cell_type": "code",
   "execution_count": null,
   "metadata": {},
   "outputs": [],
   "source": [
    "# Gravando os dados no arquivo\n",
    "\n",
    "for palavra in texto.split():\n",
    "    arquivo.write(palavra + '')"
   ]
  },
  {
   "cell_type": "code",
   "execution_count": null,
   "metadata": {},
   "outputs": [],
   "source": [
    "# Fechando o arquivo\n",
    "\n",
    "arquivo.close()"
   ]
  },
  {
   "cell_type": "code",
   "execution_count": null,
   "metadata": {},
   "outputs": [],
   "source": [
    "# Lendo o arquivo\n",
    "\n",
    "arquivo = open('D:\\\\DataScienceAcademy\\\\PythonFundamentos\\\\cap04\\\\arquivos/cientista.txt', 'r')\n",
    "\n",
    "conteudo = arquivo.read()\n",
    "arquivo.close()\n",
    "\n",
    "print(conteudo)"
   ]
  },
  {
   "cell_type": "markdown",
   "metadata": {},
   "source": [
    "# Usando a expressão WITH\n",
    "# <font len = 8>O método close() é executado automaticamente</font>"
   ]
  },
  {
   "cell_type": "code",
   "execution_count": null,
   "metadata": {},
   "outputs": [],
   "source": [
    "with open('D:\\\\DataScienceAcademy\\\\PythonFundamentos\\\\cap04\\\\arquivos/cientista.txt', 'r') as arquivo:\n",
    "    conteudo = arquivo.read()"
   ]
  },
  {
   "cell_type": "code",
   "execution_count": null,
   "metadata": {},
   "outputs": [],
   "source": [
    "print(len(conteudo))"
   ]
  },
  {
   "cell_type": "code",
   "execution_count": null,
   "metadata": {},
   "outputs": [],
   "source": [
    "print(conteudo)"
   ]
  },
  {
   "cell_type": "code",
   "execution_count": null,
   "metadata": {},
   "outputs": [],
   "source": [
    "with open('D:\\\\DataScienceAcademy\\\\PythonFundamentos\\\\cap04\\\\arquivos/cientista.txt', 'w') as arquivo:\n",
    "    arquivo.write(texto[: 21])\n",
    "    arquivo.write('\\n')\n",
    "    arquivo.write(texto[: 33])"
   ]
  },
  {
   "cell_type": "code",
   "execution_count": null,
   "metadata": {},
   "outputs": [],
   "source": [
    "# Lendo o arquivo\n",
    "\n",
    "arquivo = open('D:\\\\DataScienceAcademy\\\\PythonFundamentos\\\\cap04\\\\arquivos/cientista.txt', 'r')\n",
    "\n",
    "conteudo = arquivo.read()\n",
    "arquivo.close()\n",
    "\n",
    "print(texto)"
   ]
  }
 ],
 "metadata": {
  "kernelspec": {
   "display_name": "Python 3",
   "language": "python",
   "name": "python3"
  },
  "language_info": {
   "codemirror_mode": {
    "name": "ipython",
    "version": 3
   },
   "file_extension": ".py",
   "mimetype": "text/x-python",
   "name": "python",
   "nbconvert_exporter": "python",
   "pygments_lexer": "ipython3",
   "version": "3.6.5"
  }
 },
 "nbformat": 4,
 "nbformat_minor": 2
}
