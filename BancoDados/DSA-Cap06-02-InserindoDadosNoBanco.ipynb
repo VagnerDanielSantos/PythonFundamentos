{
 "cells": [
  {
   "cell_type": "markdown",
   "metadata": {},
   "source": [
    "# <font color = blue>Data Science Academy - Python Fundamentos</font>\n",
    "\n",
    "# <font color = green>Capítulo 06 - Insert no SQLITE</font>"
   ]
  },
  {
   "cell_type": "markdown",
   "metadata": {},
   "source": [
    "# Criando o Banco de Dados e inserindo Dados"
   ]
  },
  {
   "cell_type": "code",
   "execution_count": null,
   "metadata": {},
   "outputs": [],
   "source": [
    "# Removendo o arquivo com o Banco de Dados SqLite (caso exista)\n",
    "\n",
    "import os\n",
    "\n",
    "os.remove('D:\\DataScienceAcademy\\PythonFundamentos\\cap06/Produtos.db') if os.path.exists('D:\\DataScienceAcademy\\PythonFundamentos\\cap06/Produtos.db') else None"
   ]
  },
  {
   "cell_type": "code",
   "execution_count": null,
   "metadata": {},
   "outputs": [],
   "source": [
    "import sqlite3"
   ]
  },
  {
   "cell_type": "code",
   "execution_count": null,
   "metadata": {},
   "outputs": [],
   "source": [
    "# Criando uma conexão\n",
    "conexao = sqlite3.connect('D:\\DataScienceAcademy\\PythonFundamentos\\cap06/Produtos.db')\n",
    "\n",
    "# Criando um cursor\n",
    "cur = conexao.cursor()\n",
    "\n",
    "# Função para criar uma tabela\n",
    "def create_Table():\n",
    "    cur.execute('CREATE TABLE IF NOT EXISTS Produtos' \\\n",
    "                '(' \\\n",
    "                  'IdProduto INTEGER PRIMARY KEY AUTOINCREMENT NOT NULL,' \\\n",
    "                  'DataCadastro TEXT NOT NULL,'  \\\n",
    "                  'Descricao TEXT NOT NULL,' \\\n",
    "                  'Valor REAL' \\\n",
    "                ')' \\\n",
    "               )\n",
    "\n",
    "# Função para inserir uma linha\n",
    "def data_Insert():\n",
    "    cur.execute('INSERT INTO Produtos VALUES (1, \"2017-1-3\", \"Monitor 21\", 1200)' )\n",
    "    conexao.commit()\n",
    "    cur.close()\n",
    "    conexao.close()"
   ]
  },
  {
   "cell_type": "code",
   "execution_count": null,
   "metadata": {},
   "outputs": [],
   "source": [
    "# Criar Tabela\n",
    "\n",
    "create_Table()"
   ]
  },
  {
   "cell_type": "code",
   "execution_count": null,
   "metadata": {},
   "outputs": [],
   "source": [
    "# Inserir Dados\n",
    "\n",
    "data_Insert()"
   ]
  },
  {
   "cell_type": "code",
   "execution_count": null,
   "metadata": {},
   "outputs": [],
   "source": [
    "conexao.close()"
   ]
  }
 ],
 "metadata": {
  "kernelspec": {
   "display_name": "Python 3",
   "language": "python",
   "name": "python3"
  },
  "language_info": {
   "codemirror_mode": {
    "name": "ipython",
    "version": 3
   },
   "file_extension": ".py",
   "mimetype": "text/x-python",
   "name": "python",
   "nbconvert_exporter": "python",
   "pygments_lexer": "ipython3",
   "version": "3.6.5"
  }
 },
 "nbformat": 4,
 "nbformat_minor": 2
}
