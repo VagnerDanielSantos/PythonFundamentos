{
 "cells": [
  {
   "cell_type": "markdown",
   "metadata": {},
   "source": [
    "# <font color = blue>Data Science Academy - Python Fundamentos</font>\n",
    "\n",
    "# <font color = green>Capítulo 06 - Insert com Variáveis SqLite</font>"
   ]
  },
  {
   "cell_type": "markdown",
   "metadata": {},
   "source": [
    "# Inserindo Dados com Variáveis"
   ]
  },
  {
   "cell_type": "code",
   "execution_count": null,
   "metadata": {},
   "outputs": [],
   "source": [
    "import sqlite3\n",
    "import random\n",
    "import time\n",
    "import datetime"
   ]
  },
  {
   "cell_type": "code",
   "execution_count": null,
   "metadata": {},
   "outputs": [],
   "source": [
    "# Criando uma conexão\n",
    "conexao = sqlite3.connect('D:\\DataScienceAcademy\\PythonFundamentos\\cap06/Produtos.db')\n",
    "\n",
    "# Criando um cursor\n",
    "cur = conexao.cursor()\n",
    "\n",
    "# Função para criar uma tabela\n",
    "def create_Table():\n",
    "    cur.execute('CREATE TABLE IF NOT EXISTS Produtos' \\\n",
    "                '(' \\\n",
    "                  'IdProduto INTEGER PRIMARY KEY AUTOINCREMENT NOT NULL,' \\\n",
    "                  'DataCadastro TEXT NOT NULL,'  \\\n",
    "                  'Descricao TEXT NOT NULL,' \\\n",
    "                  'Valor REAL' \\\n",
    "                ')' \\\n",
    "               )\n",
    "\n",
    "# Função para inserir uma linha\n",
    "def data_Insert():\n",
    "    cur.execute('INSERT INTO Produtos VALUES (1, \"2018-1-3\", \"Teclado Microsoft \", 124.99)' )\n",
    "    conexao.commit()\n",
    "    cur.close()\n",
    "    conexao.close()\n",
    "    \n",
    "# Usando variáveis para inserir Dados\n",
    "def data_Insert_Var():\n",
    "    new_date = datetime.datetime.now()\n",
    "    new_produto = 'Impressora HP Officejet Pro'\n",
    "    new_valor = random.randrange(700, 2100)\n",
    "    cur.execute('INSERT INTO ' \\\n",
    "                'Produtos (DataCadastro, Descricao, Valor)' \\\n",
    "                'VALUES (?, ?, ?) ', (new_date, new_produto, new_valor))\n",
    "    conexao.commit() "
   ]
  },
  {
   "cell_type": "code",
   "execution_count": null,
   "metadata": {},
   "outputs": [],
   "source": [
    "# Gerando valores e inserindo na tabela\n",
    "\n",
    "for i in range(3):\n",
    "    data_Insert_Var()\n",
    "    time.sleep(15)"
   ]
  },
  {
   "cell_type": "code",
   "execution_count": null,
   "metadata": {},
   "outputs": [],
   "source": [
    "# Encerrado a conexao\n",
    "\n",
    "conexao.close()"
   ]
  }
 ],
 "metadata": {
  "kernelspec": {
   "display_name": "Python 3",
   "language": "python",
   "name": "python3"
  },
  "language_info": {
   "codemirror_mode": {
    "name": "ipython",
    "version": 3
   },
   "file_extension": ".py",
   "mimetype": "text/x-python",
   "name": "python",
   "nbconvert_exporter": "python",
   "pygments_lexer": "ipython3",
   "version": "3.6.5"
  }
 },
 "nbformat": 4,
 "nbformat_minor": 2
}
