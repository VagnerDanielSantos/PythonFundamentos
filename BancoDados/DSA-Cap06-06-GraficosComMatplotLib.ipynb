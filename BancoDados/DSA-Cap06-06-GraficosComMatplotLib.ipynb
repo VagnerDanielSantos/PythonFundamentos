{
 "cells": [
  {
   "cell_type": "markdown",
   "metadata": {},
   "source": [
    "# <font color = blue>Data Science Academy - Python Fundamentos</font>\n",
    "\n",
    "# <font color = green>Capítulo 06 - Gráficos com MatPlotLib</font>"
   ]
  },
  {
   "cell_type": "markdown",
   "metadata": {},
   "source": [
    "# GRÁFICOS"
   ]
  },
  {
   "cell_type": "code",
   "execution_count": null,
   "metadata": {},
   "outputs": [],
   "source": [
    "import sqlite3\n",
    "import datetime\n",
    "import random\n",
    "import matplotlib.pyplot as plt\n",
    "%matplotlib notebook \n",
    "# (%matplotlib notebook) Cria o gráfico dentro do Jupyter Notebook, Sem, cria em outra janela"
   ]
  },
  {
   "cell_type": "code",
   "execution_count": null,
   "metadata": {},
   "outputs": [],
   "source": [
    "# Criando uma conexão\n",
    "conexao = sqlite3.connect('D:\\DataScienceAcademy\\PythonFundamentos\\cap06/Produtos.db')\n",
    "\n",
    "# Criando um cursor\n",
    "cur = conexao.cursor()\n",
    "\n",
    "# Função para criar uma tabela\n",
    "def create_Table():\n",
    "    cur.execute('CREATE TABLE IF NOT EXISTS Produtos' \\\n",
    "                '(' \\\n",
    "                  'IdProduto INTEGER PRIMARY KEY AUTOINCREMENT NOT NULL,' \\\n",
    "                  'DataCadastro TEXT NOT NULL,'  \\\n",
    "                  'Descricao TEXT NOT NULL,' \\\n",
    "                  'Valor REAL' \\\n",
    "                ')' \\\n",
    "               )\n",
    "\n",
    "# Função para inserir uma linha\n",
    "def data_Insert():\n",
    "    cur.execute('INSERT INTO Produtos VALUES (55, \"2018-1-3\", \"Teclado Microsoft \", 124.99)' )\n",
    "    conexao.commit()\n",
    "    cur.close()\n",
    "    conexao.close()\n",
    "    \n",
    "# Usando variáveis para inserir Dados\n",
    "def data_Insert_Var():\n",
    "    new_date = datetime.datetime.now()\n",
    "    new_produto = 'Notebook Dell Inspiron I7'\n",
    "    new_valor = random.randrange(5000, 6100)\n",
    "    cur.execute('INSERT INTO ' \\\n",
    "                'Produtos (DataCadastro, Descricao, Valor)' \\\n",
    "                'VALUES (?, ?, ?) ', (new_date, new_produto, new_valor))\n",
    "    conexao.commit() \n",
    "    \n",
    "# Leitura de todos os Dados\n",
    "def leitura_Todos_Dados():\n",
    "    cur.execute('SELECT * FROM Produtos')\n",
    "    for linha in cur.fetchall():\n",
    "        print(linha)\n",
    "        \n",
    "# Leitura de registros específicos\n",
    "def leitura_registros():\n",
    "    cur.execute('SELECT * FROM Produtos WHERE Valor < 5680')\n",
    "    for linha in cur.fetchall():\n",
    "        print(linha)\n",
    "        \n",
    "# Leitura de coluna(s) específica(s)\n",
    "def leitura_coluna():\n",
    "    cur.execute('SELECT * FROM Produtos')\n",
    "    for linha in cur.fetchall():\n",
    "        print(linha[2])\n",
    "        \n",
    "# UPDATE\n",
    "def atualiza_Dados():\n",
    "    cur.execute('UPDATE Produtos SET Valor = 7000 WHERE Valor > 6000')\n",
    "    conexao.commit()\n",
    "    \n",
    "# DELETE\n",
    "def apaga_Dados():\n",
    "    cur.execute('DELETE FROM Produtos WHERE Descricao = \"Monitor 21\" ')\n",
    "    conexao.commit()\n",
    "    \n",
    "# Gerar gráfico com os Dados no Banco de Dados \n",
    "def dados_Graficos():\n",
    "    cur.execute('SELECT IdProduto, Valor FROM Produtos')\n",
    "    ids= []\n",
    "    valores = []\n",
    "    dados = cur.fetchall()\n",
    "    for linha in dados:\n",
    "        ids.append(linha[0])\n",
    "        valores.append(linha[1])\n",
    "        \n",
    "    plt.plot(ids, valores, color='yellow')    \n",
    "    plt.show()\n",
    "    "
   ]
  },
  {
   "cell_type": "code",
   "execution_count": null,
   "metadata": {},
   "outputs": [],
   "source": [
    "# Gerando gráficos\n",
    "\n",
    "dados_Graficos()"
   ]
  },
  {
   "cell_type": "code",
   "execution_count": null,
   "metadata": {},
   "outputs": [],
   "source": [
    "conexao.close()"
   ]
  }
 ],
 "metadata": {
  "kernelspec": {
   "display_name": "Python 3",
   "language": "python",
   "name": "python3"
  },
  "language_info": {
   "codemirror_mode": {
    "name": "ipython",
    "version": 3
   },
   "file_extension": ".py",
   "mimetype": "text/x-python",
   "name": "python",
   "nbconvert_exporter": "python",
   "pygments_lexer": "ipython3",
   "version": "3.6.5"
  }
 },
 "nbformat": 4,
 "nbformat_minor": 2
}
