{
 "cells": [
  {
   "cell_type": "markdown",
   "metadata": {},
   "source": [
    "# <font color = blue>Data Science Academy - Python Fundamentos</font>\n",
    "\n",
    "# <font color = green>Capítulo 06 - Criando um Banco de Dados SqLite</font>"
   ]
  },
  {
   "cell_type": "markdown",
   "metadata": {},
   "source": [
    "# Acessando Banco de Dados em Python"
   ]
  },
  {
   "cell_type": "code",
   "execution_count": null,
   "metadata": {},
   "outputs": [],
   "source": [
    "# Removendo o arquivo com o Banco de Dados SqLite (caso exista)\n",
    "\n",
    "import os\n",
    "\n",
    "os.remove('D:\\DataScienceAcademy\\PythonFundamentos\\cap06/escola.db') if os.path.exists('D:\\DataScienceAcademy\\PythonFundamentos\\cap06/escola.db') else None"
   ]
  },
  {
   "cell_type": "code",
   "execution_count": null,
   "metadata": {},
   "outputs": [],
   "source": [
    "# Importando o módulo de acesso ao SqLite\n",
    "\n",
    "import sqlite3"
   ]
  },
  {
   "cell_type": "code",
   "execution_count": null,
   "metadata": {},
   "outputs": [],
   "source": [
    "# Criando uma conexão com o Banco de Dados\n",
    "# Se o Banco de Dados não existir, ele é criado neste momento\n",
    "\n",
    "conexao = sqlite3.connect('D:\\DataScienceAcademy\\PythonFundamentos\\cap06/escola.db')"
   ]
  },
  {
   "cell_type": "code",
   "execution_count": null,
   "metadata": {},
   "outputs": [],
   "source": [
    "type(conexao)"
   ]
  },
  {
   "cell_type": "code",
   "execution_count": null,
   "metadata": {},
   "outputs": [],
   "source": [
    "# Criando um cursor\n",
    "# (Um cursor, permite percorrer todos os registros em um conjunto de dados)\n",
    "\n",
    "cur = conexao.cursor() "
   ]
  },
  {
   "cell_type": "code",
   "execution_count": null,
   "metadata": {},
   "outputs": [],
   "source": [
    "type(cur)"
   ]
  },
  {
   "cell_type": "code",
   "execution_count": null,
   "metadata": {},
   "outputs": [],
   "source": [
    "# Criar uma instrução SQL\n",
    "\n",
    "sql_create = 'CREATE TABLE Cursos' \\\n",
    "            '(' \\\n",
    "             'IdCurso INTEGER Primary Key,' \\\n",
    "             'Titulo VARCHAR(50),' \\\n",
    "             'Categoria VARCHAR(50)' \\\n",
    "             ')'"
   ]
  },
  {
   "cell_type": "code",
   "execution_count": null,
   "metadata": {},
   "outputs": [],
   "source": [
    "# Executando a instrução SQL no cursor\n",
    "\n",
    "cur.execute(sql_create)"
   ]
  },
  {
   "cell_type": "code",
   "execution_count": null,
   "metadata": {},
   "outputs": [],
   "source": [
    "# Criando outra sentença SQL para inserir registros\n",
    "\n",
    "sql_insert = 'INSERT INTO Cursos VALUES (?, ?, ?)'"
   ]
  },
  {
   "cell_type": "code",
   "execution_count": null,
   "metadata": {},
   "outputs": [],
   "source": [
    "# DADOS\n",
    "\n",
    "recset = [\n",
    "          (1, 'Ciência de Dados', 'Data Science'),\n",
    "          (2, 'Big Data Fundamentos', 'Big Data'),\n",
    "          (3, 'Python Fundamentos', 'Análise de Dados'),\n",
    "          (4, 'Engenheiro de Dados', 'Data Science')\n",
    "         ]\n"
   ]
  },
  {
   "cell_type": "code",
   "execution_count": null,
   "metadata": {},
   "outputs": [],
   "source": [
    "# Inserindo no registro\n",
    "\n",
    "for registro in recset:\n",
    "    cur.execute(sql_insert, registro)"
   ]
  },
  {
   "cell_type": "code",
   "execution_count": null,
   "metadata": {},
   "outputs": [],
   "source": [
    "# Grava a transação\n",
    "\n",
    "conexao.commit()"
   ]
  },
  {
   "cell_type": "code",
   "execution_count": null,
   "metadata": {},
   "outputs": [],
   "source": [
    "# Criando outra sentença SQL para selecionar registros\n",
    "\n",
    "sql_select = 'SELECT * FROM Cursos'"
   ]
  },
  {
   "cell_type": "code",
   "execution_count": null,
   "metadata": {},
   "outputs": [],
   "source": [
    "# Seleciona todos os registros e recupera os registros\n",
    "\n",
    "cur.execute(sql_select)\n",
    "dados = cur.fetchall()"
   ]
  },
  {
   "cell_type": "code",
   "execution_count": null,
   "metadata": {},
   "outputs": [],
   "source": [
    "# Mostra os dados\n",
    "\n",
    "for linha in dados:\n",
    "    print('Código do curso: %d, Título do curso: %s, Categoria do curso: %s \\n' %linha )"
   ]
  },
  {
   "cell_type": "code",
   "execution_count": null,
   "metadata": {},
   "outputs": [],
   "source": [
    "# Gerando outros registros\n",
    "\n",
    "recset = [\n",
    "          (5, 'Gestão de Dados com MongoDB', 'Data Science'),\n",
    "          (6, 'R Fundamentos', 'Análise de Dados'),\n",
    "          (7, 'Inteligência Artificial', 'Data Science')\n",
    "         ]\n",
    "\n",
    "# Inserindo os registros\n",
    "\n",
    "for rec in recset:\n",
    "    cur.execute(sql_insert, rec)\n",
    "    \n",
    "# Gravando a transação\n",
    "\n",
    "conexao.commit()"
   ]
  },
  {
   "cell_type": "code",
   "execution_count": null,
   "metadata": {},
   "outputs": [],
   "source": [
    "# Fecha a conexao\n",
    "\n",
    "conexao.close()"
   ]
  }
 ],
 "metadata": {
  "kernelspec": {
   "display_name": "Python 3",
   "language": "python",
   "name": "python3"
  },
  "language_info": {
   "codemirror_mode": {
    "name": "ipython",
    "version": 3
   },
   "file_extension": ".py",
   "mimetype": "text/x-python",
   "name": "python",
   "nbconvert_exporter": "python",
   "pygments_lexer": "ipython3",
   "version": "3.6.5"
  }
 },
 "nbformat": 4,
 "nbformat_minor": 2
}
