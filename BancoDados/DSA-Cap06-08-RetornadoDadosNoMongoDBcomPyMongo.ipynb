{
 "cells": [
  {
   "cell_type": "markdown",
   "metadata": {},
   "source": [
    "# <font color = blue>Data Science Academy - Python Fundamentos</font>\n",
    "\n",
    "# <font color = green>Capítulo 06 - Retornado Dados no MongoDB com PyMongo</font>"
   ]
  },
  {
   "cell_type": "markdown",
   "metadata": {},
   "source": [
    "# Retornando Dados no MongoDB"
   ]
  },
  {
   "cell_type": "code",
   "execution_count": null,
   "metadata": {},
   "outputs": [],
   "source": [
    "# Importando o módulo PyMongo\n",
    "\n",
    "import pymongo"
   ]
  },
  {
   "cell_type": "code",
   "execution_count": null,
   "metadata": {},
   "outputs": [],
   "source": [
    "# Cria a conexão com o MongoDb (conexão padrão)\n",
    "\n",
    "client_conexao = pymongo.MongoClient()"
   ]
  },
  {
   "cell_type": "code",
   "execution_count": null,
   "metadata": {},
   "outputs": [],
   "source": [
    "# Lista os Banco de Dados disponíveis\n",
    "\n",
    "client_conexao.database_names()"
   ]
  },
  {
   "cell_type": "code",
   "execution_count": null,
   "metadata": {},
   "outputs": [],
   "source": [
    "# Lista os Banco de Dados disponíveis\n",
    "\n",
    "client_conexao.list_database_names()"
   ]
  },
  {
   "cell_type": "code",
   "execution_count": null,
   "metadata": {},
   "outputs": [],
   "source": [
    "# Define o objeto Banco de Dados\n",
    "\n",
    "banco = client_conexao.Cadastro"
   ]
  },
  {
   "cell_type": "code",
   "execution_count": null,
   "metadata": {},
   "outputs": [],
   "source": [
    "# Lista as coleções disponíveis\n",
    "\n",
    "banco.collection_names()"
   ]
  },
  {
   "cell_type": "code",
   "execution_count": null,
   "metadata": {},
   "outputs": [],
   "source": [
    "# Cria uma coleção\n",
    "\n",
    "banco.create_collection('Dicionarios')"
   ]
  },
  {
   "cell_type": "code",
   "execution_count": null,
   "metadata": {},
   "outputs": [],
   "source": [
    "# Lista as coleções disponíveis\n",
    "\n",
    "banco.collection_names()"
   ]
  },
  {
   "cell_type": "code",
   "execution_count": null,
   "metadata": {},
   "outputs": [],
   "source": [
    "# Lista as coleções disponíveis\n",
    "\n",
    "banco.list_collection_names()"
   ]
  },
  {
   "cell_type": "code",
   "execution_count": null,
   "metadata": {},
   "outputs": [],
   "source": [
    "# Insere um documento na coleção criada\n",
    "\n",
    "banco.Dicionarios.insert_one(\n",
    " { 'Titulo' : 'MongoDB com Python',\n",
    "    'Descricao' : 'MongoDB é um Banco de Dados NoSQL',\n",
    "    'By' : 'Data Science Academy',\n",
    "    'url' : 'www.datascienceacademy.com',\n",
    "    'tags' : ['mongoDB', 'database', 'NoSQL'],\n",
    "    'likes' : 1200\n",
    " } )"
   ]
  },
  {
   "cell_type": "code",
   "execution_count": null,
   "metadata": {},
   "outputs": [],
   "source": [
    "# Retorna o documento criado\n",
    "\n",
    "banco.Dicionarios.find_one()"
   ]
  },
  {
   "cell_type": "code",
   "execution_count": null,
   "metadata": {},
   "outputs": [],
   "source": [
    "# Prepara um documento\n",
    "\n",
    "documento1 = { 'Nome' : 'Michael', 'Sobrenome' : 'Kieske', 'tweeter' : '@michael_kiske'}"
   ]
  },
  {
   "cell_type": "code",
   "execution_count": null,
   "metadata": {},
   "outputs": [],
   "source": [
    "# Insere um documento\n",
    "\n",
    "banco.Dicionarios.insert_one(documento1)"
   ]
  },
  {
   "cell_type": "code",
   "execution_count": null,
   "metadata": {},
   "outputs": [],
   "source": [
    "# Prepara um documento\n",
    "\n",
    "documento2 = { 'Site' : 'www.datascienceacademy.com.br',\n",
    "               'Facebook' : 'facebook.com/dsacademybr'\n",
    "             }"
   ]
  },
  {
   "cell_type": "code",
   "execution_count": null,
   "metadata": {},
   "outputs": [],
   "source": [
    "# Insere um documento\n",
    "\n",
    "banco.Dicionarios.insert_one(documento2)"
   ]
  },
  {
   "cell_type": "code",
   "execution_count": null,
   "metadata": {},
   "outputs": [],
   "source": [
    "# Retorna os documentos da coleção\n",
    "\n",
    "for registro in banco.Dicionarios.find():\n",
    "    print(registro)"
   ]
  },
  {
   "cell_type": "code",
   "execution_count": null,
   "metadata": {},
   "outputs": [],
   "source": [
    "# Conecta a uma coleção\n",
    "\n",
    "colecao = banco['Dicionarios']"
   ]
  },
  {
   "cell_type": "code",
   "execution_count": null,
   "metadata": {},
   "outputs": [],
   "source": [
    "type(colecao)"
   ]
  },
  {
   "cell_type": "code",
   "execution_count": null,
   "metadata": {},
   "outputs": [],
   "source": [
    "# Conta os documentos em uma coleção \n",
    "\n",
    "colecao.count()"
   ]
  },
  {
   "cell_type": "code",
   "execution_count": null,
   "metadata": {},
   "outputs": [],
   "source": [
    "# Conta os documentos em uma coleção \n",
    "\n",
    "colecao.estimated_document_count()"
   ]
  },
  {
   "cell_type": "code",
   "execution_count": null,
   "metadata": {},
   "outputs": [],
   "source": [
    "# Encontra um único documento\n",
    "\n",
    "redoc = colecao.find_one()"
   ]
  },
  {
   "cell_type": "code",
   "execution_count": null,
   "metadata": {},
   "outputs": [],
   "source": [
    "redoc"
   ]
  }
 ],
 "metadata": {
  "kernelspec": {
   "display_name": "Python 3",
   "language": "python",
   "name": "python3"
  },
  "language_info": {
   "codemirror_mode": {
    "name": "ipython",
    "version": 3
   },
   "file_extension": ".py",
   "mimetype": "text/x-python",
   "name": "python",
   "nbconvert_exporter": "python",
   "pygments_lexer": "ipython3",
   "version": "3.6.5"
  }
 },
 "nbformat": 4,
 "nbformat_minor": 2
}
