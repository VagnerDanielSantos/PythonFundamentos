{
 "cells": [
  {
   "cell_type": "markdown",
   "metadata": {},
   "source": [
    "# <font color = green>Data Science Academy - Python Fundamentos</font>\n",
    "\n",
    "# <font color = blue>Capítulo 05 - Herança</font>"
   ]
  },
  {
   "cell_type": "markdown",
   "metadata": {},
   "source": [
    "# Herança"
   ]
  },
  {
   "cell_type": "code",
   "execution_count": null,
   "metadata": {},
   "outputs": [],
   "source": [
    "# Criando a classe animal - SuperClasse\n",
    "\n",
    "class Animal():\n",
    "    def __init__(self):\n",
    "        print(\"Animal criado !\")\n",
    "        \n",
    "    def Identif(self):\n",
    "        print(\"Animal\")\n",
    "        \n",
    "    def comer(self):\n",
    "        print(\"Comendo\")"
   ]
  },
  {
   "cell_type": "code",
   "execution_count": null,
   "metadata": {},
   "outputs": [],
   "source": [
    "# Criando a classe cachorro - SubClasse\n",
    "\n",
    "class Cachorro(Animal):\n",
    "    def __init__(self):\n",
    "        Animal.__init__(self)\n",
    "        print(\"Objeto Cachorro criado !\")\n",
    "        \n",
    "    def Identif(self):\n",
    "        print(\"Cachorro\")\n",
    "        \n",
    "    def latir(self):\n",
    "        print(\"Au Au\")"
   ]
  },
  {
   "cell_type": "code",
   "execution_count": null,
   "metadata": {},
   "outputs": [],
   "source": [
    "# Criando um objeto (instanciando a classe)\n",
    "\n",
    "boeing = Cachorro()"
   ]
  },
  {
   "cell_type": "code",
   "execution_count": null,
   "metadata": {},
   "outputs": [],
   "source": [
    "# Executando o método da classe Cachorro (SubClasse)\n",
    "\n",
    "boeing.Identif()"
   ]
  },
  {
   "cell_type": "code",
   "execution_count": null,
   "metadata": {},
   "outputs": [],
   "source": [
    "# Executando o método da classe Animal (SuperClasse)\n",
    "\n",
    "boeing.comer()"
   ]
  },
  {
   "cell_type": "code",
   "execution_count": null,
   "metadata": {},
   "outputs": [],
   "source": [
    "# Executando o método da classe Cachorro (SubClasse)\n",
    "\n",
    "boeing.latir()"
   ]
  }
 ],
 "metadata": {
  "kernelspec": {
   "display_name": "Python 3",
   "language": "python",
   "name": "python3"
  },
  "language_info": {
   "codemirror_mode": {
    "name": "ipython",
    "version": 3
   },
   "file_extension": ".py",
   "mimetype": "text/x-python",
   "name": "python",
   "nbconvert_exporter": "python",
   "pygments_lexer": "ipython3",
   "version": "3.6.5"
  }
 },
 "nbformat": 4,
 "nbformat_minor": 2
}
