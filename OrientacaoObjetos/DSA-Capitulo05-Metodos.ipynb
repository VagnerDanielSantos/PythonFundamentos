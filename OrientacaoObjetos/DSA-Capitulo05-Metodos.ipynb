{
 "cells": [
  {
   "cell_type": "markdown",
   "metadata": {},
   "source": [
    "# <font color = green>Data Science Academy - Python Fundamentos</font>\n",
    "\n",
    "# <font color = blue>Capítulo 05 - Métodos</font>"
   ]
  },
  {
   "cell_type": "markdown",
   "metadata": {},
   "source": [
    "# Métodos"
   ]
  },
  {
   "cell_type": "code",
   "execution_count": null,
   "metadata": {},
   "outputs": [],
   "source": [
    "# Criando uma classe chamada circulo\n",
    "\n",
    "class Circulo():\n",
    "        # O valor de pi é constante\n",
    "        pi = 3.14\n",
    "        # Quando um objeto desta classe for criado, este método será executado e o valor default do raio será 5.\n",
    "        def __init__(self, raio = 5):\n",
    "            self.raio = raio\n",
    "            \n",
    "        # Este método calcula a área. Self utiliza os atributos deste mesmo objeto.\n",
    "        def area(self):\n",
    "            return(self.raio * self.raio) * Circulo.pi\n",
    "        \n",
    "        # Método para gerar um novo raio\n",
    "        def setRaio(self, novo_raio):\n",
    "            self.raio = novo_raio\n",
    "            \n",
    "        # Método para obter o raio do circulo\n",
    "        def getRaio(self):\n",
    "            return self.raio"
   ]
  },
  {
   "cell_type": "code",
   "execution_count": null,
   "metadata": {},
   "outputs": [],
   "source": [
    "# Criando o objeto circ. Uma instância da classe Circulo()\n",
    "\n",
    "circ = Circulo()"
   ]
  },
  {
   "cell_type": "code",
   "execution_count": null,
   "metadata": {},
   "outputs": [],
   "source": [
    "# Executando um método da classe Circulo\n",
    "\n",
    "circ.getRaio()"
   ]
  },
  {
   "cell_type": "code",
   "execution_count": null,
   "metadata": {},
   "outputs": [],
   "source": [
    "# Criando o objeto circ1. Uma instância da classe Circulo(). Neste exemplo será informado o novo valor do raio\n",
    "\n",
    "circ1 = Circulo(12)"
   ]
  },
  {
   "cell_type": "code",
   "execution_count": null,
   "metadata": {},
   "outputs": [],
   "source": [
    "# Executando um método da classe Circulo\n",
    "\n",
    "circ1.getRaio()"
   ]
  },
  {
   "cell_type": "code",
   "execution_count": null,
   "metadata": {},
   "outputs": [],
   "source": [
    "# Imprimindo o raio\n",
    "\n",
    "print(\"O raio é: \", circ.getRaio())"
   ]
  },
  {
   "cell_type": "code",
   "execution_count": null,
   "metadata": {},
   "outputs": [],
   "source": [
    "# Imprimindo a área\n",
    "\n",
    "print(\"A área é igual à: \", circ.area())"
   ]
  },
  {
   "cell_type": "code",
   "execution_count": null,
   "metadata": {},
   "outputs": [],
   "source": [
    "# Gerando um novo valor para o raio do circulo\n",
    "\n",
    "circ.setRaio(16)"
   ]
  },
  {
   "cell_type": "code",
   "execution_count": null,
   "metadata": {},
   "outputs": [],
   "source": [
    "# Imprimindo o novo raio\n",
    "\n",
    "print(\"O novo raio vale: \", circ.getRaio())"
   ]
  }
 ],
 "metadata": {
  "kernelspec": {
   "display_name": "Python 3",
   "language": "python",
   "name": "python3"
  },
  "language_info": {
   "codemirror_mode": {
    "name": "ipython",
    "version": 3
   },
   "file_extension": ".py",
   "mimetype": "text/x-python",
   "name": "python",
   "nbconvert_exporter": "python",
   "pygments_lexer": "ipython3",
   "version": "3.6.5"
  }
 },
 "nbformat": 4,
 "nbformat_minor": 2
}
