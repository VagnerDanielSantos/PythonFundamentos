{
 "cells": [
  {
   "cell_type": "markdown",
   "metadata": {},
   "source": [
    "# <font color = green>Data Science Academy - Python Fundamentos</font>\n",
    "\n",
    "# <font color = blue>Capítulo 03 - Condicionais / Condicionais Aninhados</font>"
   ]
  },
  {
   "cell_type": "markdown",
   "metadata": {},
   "source": [
    "# Condicional IF"
   ]
  },
  {
   "cell_type": "code",
   "execution_count": null,
   "metadata": {},
   "outputs": [],
   "source": [
    "# Condicional IF\n",
    "\n",
    "if 5 > 2:\n",
    "    print('O número 5 é maior que o número 2 !')"
   ]
  },
  {
   "cell_type": "code",
   "execution_count": null,
   "metadata": {},
   "outputs": [],
   "source": [
    "# Statement IF ... ELSE\n",
    "\n",
    "if 5 < 2:\n",
    "    print('5 é maior que 2 !')\n",
    "else:\n",
    "    print('5 não é menor que 2 !')"
   ]
  },
  {
   "cell_type": "code",
   "execution_count": null,
   "metadata": {},
   "outputs": [],
   "source": [
    "6 > 5"
   ]
  },
  {
   "cell_type": "code",
   "execution_count": null,
   "metadata": {},
   "outputs": [],
   "source": [
    "7 < 11"
   ]
  },
  {
   "cell_type": "code",
   "execution_count": null,
   "metadata": {},
   "outputs": [],
   "source": [
    "11 <= 12"
   ]
  },
  {
   "cell_type": "code",
   "execution_count": null,
   "metadata": {},
   "outputs": [],
   "source": [
    "500 >= 500"
   ]
  },
  {
   "cell_type": "code",
   "execution_count": null,
   "metadata": {},
   "outputs": [],
   "source": [
    "if 24 == 24:\n",
    "    print('Valores iguais !')"
   ]
  },
  {
   "cell_type": "code",
   "execution_count": null,
   "metadata": {},
   "outputs": [],
   "source": [
    "if True:\n",
    "    print('Teste lógico com sucesso !')"
   ]
  },
  {
   "cell_type": "code",
   "execution_count": null,
   "metadata": {},
   "outputs": [],
   "source": [
    "# Atenção com a sintaxe (falta os dois pontos)\n",
    "\n",
    "if 8 > 1\n",
    "    print('Condição verdadeira.')"
   ]
  },
  {
   "cell_type": "code",
   "execution_count": null,
   "metadata": {},
   "outputs": [],
   "source": [
    "# Atenção com a sintaxe (falta a identação)\n",
    "\n",
    "if 10 == 10\n",
    "print('Valores iguais !')"
   ]
  },
  {
   "cell_type": "markdown",
   "metadata": {},
   "source": [
    "# Condicionais Aninhados"
   ]
  },
  {
   "cell_type": "code",
   "execution_count": null,
   "metadata": {},
   "outputs": [],
   "source": [
    "idade = 18\n",
    "\n",
    "if idade > 17:\n",
    "    print('Você já pode dirigir com a supervisão de um adulto.')"
   ]
  },
  {
   "cell_type": "code",
   "execution_count": null,
   "metadata": {},
   "outputs": [],
   "source": [
    "nome = 'Zeus'\n",
    "\n",
    "if idade > 15:\n",
    "    if nome == 'Zeus':\n",
    "        print('Olá Zeus, seja bem vindo !')\n",
    "    else:\n",
    "        print('Ola, você não é bem vindo !')"
   ]
  },
  {
   "cell_type": "code",
   "execution_count": null,
   "metadata": {},
   "outputs": [],
   "source": [
    "idade = 15\n",
    "nome = 'Nefertiti'\n",
    "\n",
    "if idade >= 10 and nome == 'Nefertiti':\n",
    "    print('Salve a rainha Nefertiti')"
   ]
  },
  {
   "cell_type": "code",
   "execution_count": null,
   "metadata": {},
   "outputs": [],
   "source": [
    "idade = 18\n",
    "nome = 'Joca'\n",
    "\n",
    "if (idade >=19) or (nome == 'Juca'):\n",
    "    print('Você pode entrar.')"
   ]
  },
  {
   "cell_type": "markdown",
   "metadata": {},
   "source": [
    "# ELIF"
   ]
  },
  {
   "cell_type": "code",
   "execution_count": null,
   "metadata": {},
   "outputs": [],
   "source": [
    "dia = 'Terça'\n",
    "\n",
    "if dia == 'Segunda':\n",
    "    print('Eita dia difícil !')\n",
    "else:\n",
    "    print('Já é Sexta ?')"
   ]
  },
  {
   "cell_type": "code",
   "execution_count": null,
   "metadata": {},
   "outputs": [],
   "source": [
    "if dia == 'Segunda':\n",
    "    print('Começando a semana')\n",
    "elif dia == 'Terça':\n",
    "    print('Eita semana demorada')\n",
    "else:\n",
    "    print('Que venha a Sexta-Feira')"
   ]
  },
  {
   "cell_type": "markdown",
   "metadata": {},
   "source": [
    "# Operadores Lógicos"
   ]
  },
  {
   "cell_type": "code",
   "execution_count": null,
   "metadata": {},
   "outputs": [],
   "source": [
    "idade = 18\n",
    "nome = 'Graça'\n",
    "\n",
    "if idade > 17:\n",
    "    print('Você pode pilotar')"
   ]
  },
  {
   "cell_type": "code",
   "execution_count": null,
   "metadata": {},
   "outputs": [],
   "source": [
    "# Usando mais de uma condição na cláusula IF\n",
    "\n",
    "disciplina = input('Digite o nome da disciplina: ')\n",
    "nota_final = input('Digite a nota final (entre 0 e 10): ')\n",
    "\n",
    "print('\\n')\n",
    "\n",
    "if disciplina == 'Matemática' and nota_final >= '7':\n",
    "    print('Você está aprovado.\\nParabéns !')\n",
    "else:\n",
    "    print('Você está reprovado.\\nEstude mais no próximo semestre.')"
   ]
  },
  {
   "cell_type": "code",
   "execution_count": null,
   "metadata": {},
   "outputs": [],
   "source": [
    "# Usando mais de uma condição na cláusula IF e introduzinho PlaceHolders\n",
    "\n",
    "disciplina = input('Digite o nome da disciplina: ')\n",
    "nota_final = input('Digite a nota final (entre 0 e 10): ')\n",
    "semestre = input('Digite o semestre (entre 1 e 8): ')\n",
    "\n",
    "print('\\n')\n",
    "\n",
    "if disciplina == 'Português' and nota_final >= '7' and int(semestre) != 1:\n",
    "    print('Você foi aprovado na disciplina: %s.\\nSua média final foi: %r' %(disciplina, nota_final))\n",
    "else:\n",
    "    print('Você foi reprovado !')"
   ]
  },
  {
   "cell_type": "markdown",
   "metadata": {},
   "source": [
    "# FIM"
   ]
  }
 ],
 "metadata": {
  "kernelspec": {
   "display_name": "Python 3",
   "language": "python",
   "name": "python3"
  },
  "language_info": {
   "codemirror_mode": {
    "name": "ipython",
    "version": 3
   },
   "file_extension": ".py",
   "mimetype": "text/x-python",
   "name": "python",
   "nbconvert_exporter": "python",
   "pygments_lexer": "ipython3",
   "version": "3.6.5"
  }
 },
 "nbformat": 4,
 "nbformat_minor": 2
}
