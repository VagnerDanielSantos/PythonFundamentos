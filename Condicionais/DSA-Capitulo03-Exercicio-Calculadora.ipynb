{
 "cells": [
  {
   "cell_type": "markdown",
   "metadata": {},
   "source": [
    "# <font color = green>Data Science Academy - Python Fundamentos</font>\n",
    "\n",
    "# <font color = blue >Capítulo 03 - Exercício Calculadora</font>"
   ]
  },
  {
   "cell_type": "code",
   "execution_count": null,
   "metadata": {},
   "outputs": [],
   "source": [
    "# Calculadora com as quatro operações básicas\n",
    "#import math\n",
    "\n",
    "print('\\n ************************** Calculadora **************************')\n",
    "\n",
    "def adicao(valor1, valor2):\n",
    "    return valor1 + valor2\n",
    "\n",
    "def subtracao(valor1, valor2):\n",
    "    return valor1 - valor2\n",
    "\n",
    "def multiplicacao(valor1, valor2):\n",
    "    return valor1 * valor2\n",
    "\n",
    "def divisao(valor1, valor2):\n",
    "    return valor1 / valor2\n",
    "\n",
    "print('\\nEscolha uma das opções: ')\n",
    "\n",
    "print('\\n1 - Adição')\n",
    "print('2 - Subtração')\n",
    "print('3 - Multiplicação')\n",
    "print('4 - Divisão')\n",
    "\n",
    "opcao = input('\\nDigite a sua opção: ')\n",
    "\n",
    "num1 = int(input('Digite o primeiro valor numérico: '))\n",
    "num2 = int(input('Digite o segundo valor numérico: '))\n",
    "\n",
    "if opcao == '1':     \n",
    "    print('\\nA soma dos valores é: ', num1, '+', num2, '=', adicao(num1, num2))\n",
    "\n",
    "elif opcao == '2':      \n",
    "    print('\\nA subtração dos valores é: ', num1, '-', num2, '=', subtracao(num1, num2))\n",
    "\n",
    "elif opcao == '3':    \n",
    "    print('\\nA multiplicação dos valores é: ', num1, '*', num2, '=', multiplicacao(num1, num2))\n",
    "    \n",
    "elif opcao == '4':    \n",
    "    if ( num1 == 0) or (num2 == 0):\n",
    "        print('\\n\\n*** Não se pode fazer divisão por zero(0) ***')\n",
    "    if ( num1 == 0) and (num2 == 0):\n",
    "        print('\\n\\n*** Não se pode fazer divisão por zero(0) ***')\n",
    "    else:  \n",
    "        print('\\nA divisao dos valores é: ', num1, '/', num2, '=', divisao(num1, num2))\n",
    "        \n",
    "else:\n",
    "    print('Opção inválida !')"
   ]
  }
 ],
 "metadata": {
  "kernelspec": {
   "display_name": "Python 3",
   "language": "python",
   "name": "python3"
  },
  "language_info": {
   "codemirror_mode": {
    "name": "ipython",
    "version": 3
   },
   "file_extension": ".py",
   "mimetype": "text/x-python",
   "name": "python",
   "nbconvert_exporter": "python",
   "pygments_lexer": "ipython3",
   "version": "3.6.5"
  }
 },
 "nbformat": 4,
 "nbformat_minor": 2
}
