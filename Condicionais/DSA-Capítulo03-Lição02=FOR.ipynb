{
 "cells": [
  {
   "cell_type": "markdown",
   "metadata": {},
   "source": [
    "# <font color = green>Data Science Academy - Python Fundamentos </font> \n",
    "\n",
    "# <font color = blue> Capítulo 03 - LOOP FOR </font>"
   ]
  },
  {
   "cell_type": "code",
   "execution_count": null,
   "metadata": {},
   "outputs": [],
   "source": [
    "# Criando uma tupla e imprimindo cada um dos valores\n",
    "\n",
    "tp = (2, 4, 6, 8)\n",
    "\n",
    "for cont in tp:\n",
    "    print(cont)"
   ]
  },
  {
   "cell_type": "code",
   "execution_count": null,
   "metadata": {},
   "outputs": [],
   "source": [
    "# Criando uma lista e imprimindo cada um dos valores\n",
    "\n",
    "listamercado = [\"chocolate\", \"danone\", \"bolacha\", \"yogurt\"]\n",
    "\n",
    "for i in listamercado:\n",
    "    print(i)"
   ]
  },
  {
   "cell_type": "code",
   "execution_count": null,
   "metadata": {},
   "outputs": [],
   "source": [
    "# Imprimindo os valores no intervalo entre 0 e 5(exclusive)\n",
    "\n",
    "for cont in range(0, 5):\n",
    "    print(cont)"
   ]
  },
  {
   "cell_type": "code",
   "execution_count": null,
   "metadata": {},
   "outputs": [],
   "source": [
    "# Imprimindo na tela os números impares da lista de números\n",
    "\n",
    "lista = [1, 2, 3, 4, 5, 6, 7, 8, 9, 10, 11, 12]\n",
    "\n",
    "for num in lista:\n",
    "    if num % 2 == 1:\n",
    "        print(num)"
   ]
  },
  {
   "cell_type": "code",
   "execution_count": null,
   "metadata": {},
   "outputs": [],
   "source": [
    "# Listando os números no intervalo entre 0 e 101, com incremento de 2\n",
    "\n",
    "for i in range(0, 101, 2):\n",
    "    print(i)"
   ]
  },
  {
   "cell_type": "code",
   "execution_count": null,
   "metadata": {},
   "outputs": [],
   "source": [
    "# STRING também são sequências\n",
    "\n",
    "for caracter in \"Python é uma linguagem de programação poderosa\":\n",
    "    print(caracter)"
   ]
  },
  {
   "cell_type": "markdown",
   "metadata": {},
   "source": [
    "# LOOP ANINHADO"
   ]
  },
  {
   "cell_type": "code",
   "execution_count": null,
   "metadata": {},
   "outputs": [],
   "source": [
    "# Loops Aninhados\n",
    "\n",
    "for i in range (0, 5):\n",
    "    for a in range (0, 5):\n",
    "        print(a)"
   ]
  },
  {
   "cell_type": "code",
   "execution_count": null,
   "metadata": {},
   "outputs": [],
   "source": [
    "# Operando os valores de uma lista com loop for\n",
    "\n",
    "listaB = (5, 7, 15, 17, 25, 27, 35, 37, 45, 47, 55, 56, 57, 58, 59)\n",
    "soma = 0\n",
    "\n",
    "for i in listaB:\n",
    "    double_i = i * 2\n",
    "    soma += double_i\n",
    "    \n",
    "print(soma)"
   ]
  },
  {
   "cell_type": "code",
   "execution_count": null,
   "metadata": {},
   "outputs": [],
   "source": [
    "# Loops em lista de lista\n",
    "\n",
    "listas = [ [10,20,30], [90,80,70], [50,20,80] ]\n",
    "\n",
    "for valor in listas:\n",
    "    print(valor)"
   ]
  },
  {
   "cell_type": "code",
   "execution_count": null,
   "metadata": {},
   "outputs": [],
   "source": [
    "# Contando os itens de uma lista\n",
    "\n",
    "lista = [101, 500, 924, 321, 753]\n",
    "count = 0\n",
    "\n",
    "for item in lista:\n",
    "    count += 1\n",
    "    \n",
    "print(count)"
   ]
  },
  {
   "cell_type": "code",
   "execution_count": null,
   "metadata": {},
   "outputs": [],
   "source": [
    "# Loops em listas de listas\n",
    "\n",
    "listas = [ [8.1, 5.1, 10.0], [30, 80, 55], [99, 11, 66] ]\n",
    "\n",
    "for valor in listas:\n",
    "    print(valor)"
   ]
  },
  {
   "cell_type": "code",
   "execution_count": null,
   "metadata": {},
   "outputs": [],
   "source": [
    "# Contando os itens de uma lista\n",
    "\n",
    "lista = [1, 2, 3, 4, 5, 6, 7, 8, 9, 10]\n",
    "count = 0\n",
    "\n",
    "for item in lista:\n",
    "    count = count + 1\n",
    "    \n",
    "print(count)"
   ]
  },
  {
   "cell_type": "code",
   "execution_count": null,
   "metadata": {},
   "outputs": [],
   "source": [
    "# Contando o número de colunas\n",
    "\n",
    "lst = [ [9,8,7], [6,7,8], [7,8,9] ]\n",
    "primeira_linha = lst[0]\n",
    "cont = 0\n",
    "\n",
    "for coluna in primeira_linha:\n",
    "    cont = cont + 1\n",
    "    \n",
    "print(cont)"
   ]
  },
  {
   "cell_type": "code",
   "execution_count": null,
   "metadata": {},
   "outputs": [],
   "source": [
    "# Pesquisando em uma lista\n",
    "\n",
    "listaP = [10, 99, 0, 2, 74, 55, 90, 38, 19, 66, 26, 0, 74]\n",
    "\n",
    "# Loop através da lista\n",
    "for valor in listaP:\n",
    "    if (valor == 74) or (valor == 0):\n",
    "        print(\"Valor(es) encontrados !\")"
   ]
  },
  {
   "cell_type": "code",
   "execution_count": null,
   "metadata": {},
   "outputs": [],
   "source": [
    "# Listando as chaves de um dicionário\n",
    "\n",
    "dict = {'k1':'Machine Learning', 'k2': 'Deep Learning', 'k3': 'Data Science', 'k4': 'Mathematical'}\n",
    "\n",
    "for item in dict:\n",
    "    print(item)"
   ]
  },
  {
   "cell_type": "code",
   "execution_count": null,
   "metadata": {},
   "outputs": [],
   "source": [
    "# Imprimindo chave e valor do dicionário. Usando o método items() para retornar os itens de um dicionário\n",
    "\n",
    "for k, v in dict.items():\n",
    "    print(k, v)"
   ]
  }
 ],
 "metadata": {
  "kernelspec": {
   "display_name": "Python 3",
   "language": "python",
   "name": "python3"
  },
  "language_info": {
   "codemirror_mode": {
    "name": "ipython",
    "version": 3
   },
   "file_extension": ".py",
   "mimetype": "text/x-python",
   "name": "python",
   "nbconvert_exporter": "python",
   "pygments_lexer": "ipython3",
   "version": "3.6.5"
  }
 },
 "nbformat": 4,
 "nbformat_minor": 2
}
