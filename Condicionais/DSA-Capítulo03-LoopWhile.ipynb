{
 "cells": [
  {
   "cell_type": "markdown",
   "metadata": {},
   "source": [
    "# <font color = green>Data Science Academy - Python Fundamentos</font>\n",
    "\n",
    "# <font color = blue>Capítulo 03 - Loop WHILE</font>"
   ]
  },
  {
   "cell_type": "code",
   "execution_count": null,
   "metadata": {},
   "outputs": [],
   "source": [
    "# Usando o loop while para imprimir os valores de 0 à 9\n",
    "\n",
    "contador = 0\n",
    "\n",
    "while contador < 10:\n",
    "    print(contador)\n",
    "    contador = contador + 1"
   ]
  },
  {
   "cell_type": "code",
   "execution_count": null,
   "metadata": {},
   "outputs": [],
   "source": [
    "# Também é possível usar a cláusula \"else\" para encerrar o loop while\n",
    "\n",
    "x = 0\n",
    "\n",
    "while x < 10:\n",
    "    print(' O valor de \"x\" nesta iteração é: ', x)\n",
    "    print('\"x\" ainda é menor do que 10.')\n",
    "    print(' somando 1 a \"x\" ')\n",
    "    print('\\n')\n",
    "    x += 1\n",
    "else:\n",
    "    print('Loop Concluído !')"
   ]
  },
  {
   "cell_type": "markdown",
   "metadata": {},
   "source": [
    "# PASS, BREAK, CONTINUE"
   ]
  },
  {
   "cell_type": "code",
   "execution_count": null,
   "metadata": {},
   "outputs": [],
   "source": [
    "contador = 0\n",
    "\n",
    "while contador < 100:\n",
    "    if contador == 18:\n",
    "        break\n",
    "    else:\n",
    "        pass\n",
    "    print(contador)\n",
    "    contador = contador + 1"
   ]
  },
  {
   "cell_type": "code",
   "execution_count": null,
   "metadata": {},
   "outputs": [],
   "source": [
    "for verificador in \"Python\":\n",
    "    if verificador == 'h':\n",
    "        continue        \n",
    "    print(verificador)"
   ]
  },
  {
   "cell_type": "markdown",
   "metadata": {},
   "source": [
    "# WHILE e FOR juntos"
   ]
  },
  {
   "cell_type": "code",
   "execution_count": null,
   "metadata": {},
   "outputs": [],
   "source": [
    "for i in range(2, 30):\n",
    "    j = 2\n",
    "    cont = 0\n",
    "    while j < i:\n",
    "        if i % j == 0:\n",
    "            cont = 1\n",
    "            j = j + 1\n",
    "        else:\n",
    "            j = j + 1\n",
    "            \n",
    "    if cont == 0:\n",
    "        print(str(i) + ': é um número primo')\n",
    "        cont = 0\n",
    "    else:\n",
    "        cont = 0"
   ]
  }
 ],
 "metadata": {
  "kernelspec": {
   "display_name": "Python 3",
   "language": "python",
   "name": "python3"
  },
  "language_info": {
   "codemirror_mode": {
    "name": "ipython",
    "version": 3
   },
   "file_extension": ".py",
   "mimetype": "text/x-python",
   "name": "python",
   "nbconvert_exporter": "python",
   "pygments_lexer": "ipython3",
   "version": "3.6.5"
  }
 },
 "nbformat": 4,
 "nbformat_minor": 2
}
